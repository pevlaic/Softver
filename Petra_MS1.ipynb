{
 "cells": [
  {
   "cell_type": "markdown",
   "metadata": {},
   "source": [
    "# LINEARNA REGRESIJA\n",
    "\n",
    "\n",
    "  \n",
    "U statistici, ** *linearna regresija* ** se odnosi na svaki pristup modeliranju relacija između jedne ili više varijabli označene sa Y te jedne ili više varijabli označene sa X, na način da takav model linearno ovisi o nepoznatim parametrima koji su procijenjeni iz podataka. \n",
    "\n",
    "Neka su $x^{(1)},x^{(2)},...,x^{(k)}$ kontrolirane (neslučajne) varijable i Y slučajna varijabla mjerena u ovisnosti o $x=(x^{(1)},x^{(2)},...,x^{(k)})$, odnosno $Y=Y(x)$.\n",
    "\n",
    "Linearni model ovisnosti veličine Y o x zadan je sa\n",
    "\n",
    "$$Y=\\theta _{0}+\\theta _{1}x^{(1)}+...+\\theta _{k}x^{(k)}+\\varepsilon, $$\n",
    "\n",
    "pri čemu je $\\varepsilon$ slučajna pogreška, a $\\theta_{0},\\theta_{1},...,\\theta_{k}$ parametri modela.\n",
    "\n",
    "\n",
    "U sljedećem radu ispituje se linearna zavisnost podataka i konstruira odgovarajući aproksimativni model koristeći linearnu regresiju."
   ]
  },
  {
   "cell_type": "code",
   "execution_count": 1,
   "metadata": {},
   "outputs": [],
   "source": [
    "import pandas as pd\n",
    "import sympy as sp\n",
    "import scipy as sc\n",
    "import numpy as np\n",
    "\n",
    "from IPython.display import display\n",
    "from ipywidgets import interact, fixed, interact_manual\n",
    "import ipywidgets as widgets"
   ]
  },
  {
   "cell_type": "markdown",
   "metadata": {},
   "source": [
    "Rad * „Thermal Conductivity of Polyethylene: The Effects of Crystal Size, Density and Orientation on the Thermal Conductivity“ (Polymer Eng. and Science, 1972., str 204-208)* proučava vezu između termičke vodljivosti i lamelarne gustoće. \n",
    "\n",
    "**Termička vodljivost** je fizikalna veličina koja opisuje kako toplina prolazi kroz tvari. \n",
    "Ovisi o vrsti, strukturi, gustoći, vlažnosti i temperaturi tvari. Računa se prema formuli:\n",
    "\n",
    "$$\\lambda =\\frac{Ql}{St\\Delta T}$$.\n",
    "\n",
    "Podaci o mjerenjima dobiveni su iz *DEVORE, JAY L., Probability and Statistics for Engineering and the Sciences, 1982., Brooks/Cole Publishing Company, Monterey, California, str. 476*."
   ]
  },
  {
   "cell_type": "markdown",
   "metadata": {},
   "source": [
    "## Deskriptivna analiza"
   ]
  },
  {
   "cell_type": "markdown",
   "metadata": {},
   "source": [
    "Prije same linearne regresije, provodi se deskriptivna analiza dobivenih podataka kako bi se uočila moguća odstupanja.\n",
    "\n",
    "**Histogram** je grafički prikaz podataka takav da površina stupca predstavlja relativnu frekvenciju za određeni interval tj.razred ili joj je proporcionalna."
   ]
  },
  {
   "cell_type": "code",
   "execution_count": 2,
   "metadata": {},
   "outputs": [
    {
     "data": {
      "image/png": "[encoded data removed]",
      "text/plain": [
       "<matplotlib.figure.Figure at 0x2462ff17358>"
      ]
     },
     "metadata": {},
     "output_type": "display_data"
    },
    {
     "data": {
      "image/png": "[encoded data removed]",
      "text/plain": [
       "<matplotlib.figure.Figure at 0x2462ff173c8>"
      ]
     },
     "metadata": {},
     "output_type": "display_data"
    }
   ],
   "source": [
    "x=np.array([240,410,460,490,520,590,745,8300])\n",
    "y=np.array([12.0,14.7,14.7,15.2,15.2,15.6,16.0,18.1])\n",
    "\n",
    "import matplotlib.pyplot as plt\n",
    "%matplotlib inline\n",
    "\n",
    "plt.hist(x,rwidth=0.75)\n",
    "plt.title('termička vodljivost')\n",
    "plt.xlabel('vrijednosti')\n",
    "plt.ylabel('frekvencije')\n",
    "plt.show()\n",
    "\n",
    "plt.hist(y, color='r',rwidth=0.75)\n",
    "plt.xlabel('vrijednosti')\n",
    "plt.ylabel('frekvencije')\n",
    "plt.title('lamelarna gustoća')\n",
    "plt.show()\n"
   ]
  },
  {
   "cell_type": "markdown",
   "metadata": {},
   "source": [
    "Histogrami dobivenih podataka upućuju na znatno odstupanje posljednjeg podatka za termičku vodljivost, što se može kasnije pokazati kao pogreška pri prikupljanju podataka.\n",
    "\n",
    "Promatramo karakterističnu petorku uzoraka. **Karakteristična petorka** je naziv za 5 deskriptivnih vrijednosti pojedinih distribucija. To su *min, 25 percentil, medijan, 75 percentil, max.*\n",
    "\n",
    "**Aritmetička sredina** od X je broj  $\\bar{x}=\\frac{1}{n}\\sum_{i=1}^{n}x_{i}$ , pri čemu je n duljina uzorka.\n",
    "\n",
    "**Medijan** je vrijednost od X za koju vrijedi da je 50% podataka manje od ili jednako toj vrijednosti i 50% podataka je veće od ili jednako toj vrijednosti.\n",
    "\n",
    "**Mod** je vrijednost od X s najvećom frekvencijom."
   ]
  },
  {
   "cell_type": "code",
   "execution_count": 3,
   "metadata": {},
   "outputs": [
    {
     "name": "stdout",
     "output_type": "stream",
     "text": [
      "1469.375 505.0 ModeResult(mode=array([240]), count=array([1]))\n",
      "15.1875 15.2 ModeResult(mode=array([14.7]), count=array([2]))\n"
     ]
    }
   ],
   "source": [
    "from scipy import stats\n",
    "def amm(x):\n",
    "    a=np.mean(x)\n",
    "    b=np.median(x)\n",
    "    c=stats.mode(x, axis=None)\n",
    "    print(a,b,c)\n",
    "    \n",
    "amm(x)\n",
    "amm(y)"
   ]
  },
  {
   "cell_type": "markdown",
   "metadata": {},
   "source": [
    "Uočavamo da se aritmetička sredina i medijan značajno razlikuju za termičku vodljivost, dok su za lamelarnu gustoću približno jednake. Mod za termičku vodljivost je upravo prvi element jer su svi elementi jedinstveni, dok je mod za lamelarnu vodljivost jedini element koji se pojavljuje dva puta.\n",
    "\n",
    "Vizualizirajmo karakterističnu petorku pomoću box plota. **Box-plot**, odnosno dijagram pravokutnika, je grafički prikaz podataka koji prikazuje karakterističnu petorku $(x_{(1)}, q_{L}, m, q_{U}, x_{(n)})$.\n",
    "\n",
    "Sastoji se od pravokutnika koji prikazuje podatke od donjeg do gornjeg kvartila. Crta po pravokutniku označava *medijan*, donje i gornje horizontalne linije nazivaju se *whisker*. Predstavljaju najmanji i najveći podatak koji se nalazi unutar 1.5 puta interkvartilnog raspona gledajući od donjeg, odnosno gornjeg kvartila. Sve točke izvan te granice crtaju se posebno i smatraju *outlierima*.\n",
    "\n",
    "Izgled box-plota ukazuje na stupanj raspršenosti i asimetričnosti te može pokazati outliere među podacima.\n"
   ]
  },
  {
   "cell_type": "code",
   "execution_count": 4,
   "metadata": {},
   "outputs": [
    {
     "data": {
      "image/png": "[encoded data removed]",
      "text/plain": [
       "<matplotlib.figure.Figure at 0x246323600f0>"
      ]
     },
     "metadata": {},
     "output_type": "display_data"
    },
    {
     "data": {
      "image/png": "[encoded data removed]",
      "text/plain": [
       "<matplotlib.figure.Figure at 0x24632381630>"
      ]
     },
     "metadata": {},
     "output_type": "display_data"
    }
   ],
   "source": [
    "def bp_boja(bp, color):\n",
    "    plt.setp(bp['boxes'], color=color)\n",
    "    plt.setp(bp['whiskers'], color=color)\n",
    "    plt.setp(bp['caps'], color=color)\n",
    "    plt.setp(bp['medians'], color=color)\n",
    "\n",
    "t=plt.boxplot(x)\n",
    "bp_boja(t, 'red')\n",
    "plt.title('termička vodljivost')\n",
    "plt.show()\n",
    "\n",
    "v=plt.boxplot(y)\n",
    "bp_boja(v,'green')\n",
    "plt.title('lamelarna gustoća')\n",
    "plt.show()"
   ]
  },
  {
   "cell_type": "markdown",
   "metadata": {},
   "source": [
    "## Prikaz podataka\n"
   ]
  },
  {
   "cell_type": "markdown",
   "metadata": {},
   "source": [
    "U daljnjem razmatranju termičku vodljivost označavat ćemo s x, a lamelarnu gustoću s y.\n",
    "Prikažimo dobivene podatke grafički."
   ]
  },
  {
   "cell_type": "code",
   "execution_count": 5,
   "metadata": {},
   "outputs": [
    {
     "data": {
      "image/png": "[encoded data removed]",
      "text/plain": [
       "<matplotlib.figure.Figure at 0x2462ce4a320>"
      ]
     },
     "metadata": {},
     "output_type": "display_data"
    }
   ],
   "source": [
    "plt.scatter(x,y,facecolors='none',edgecolors='b')\n",
    "plt.xlabel('termička vodljivost')\n",
    "plt.ylabel('lamelarna gustoća')\n",
    "plt.show()"
   ]
  },
  {
   "cell_type": "markdown",
   "metadata": {},
   "source": [
    "Iz grafa ne uočavamo postojanje linearne zavisnosti, stoga je potrebna daljnja transformacija podataka. Definiraju se novi podaci: $$x_{1}=\\frac{1}{x}$$."
   ]
  },
  {
   "cell_type": "code",
   "execution_count": 6,
   "metadata": {
    "scrolled": true
   },
   "outputs": [
    {
     "data": {
      "image/png": "[encoded data removed]",
      "text/plain": [
       "<matplotlib.figure.Figure at 0x2463246c518>"
      ]
     },
     "metadata": {},
     "output_type": "display_data"
    }
   ],
   "source": [
    "x1=1/x\n",
    "plt.scatter(x1,y,facecolors='none',edgecolors='r')\n",
    "plt.xlim(-0.0001,0.005)\n",
    "plt.xlabel('termička vodljivost')\n",
    "plt.ylabel('lamelarna gustoća')\n",
    "plt.title('Transformirani podaci')\n",
    "plt.show()"
   ]
  },
  {
   "cell_type": "markdown",
   "metadata": {},
   "source": [
    "Iz grafa transformiranih podataka jasno je da točke upućuju na aproksimaciju pravcem.\n",
    "Prilagodba linearnog modela $y=\\theta_{0}+\\theta _{1}x_{1}$  provodi se uz pretpostavku da vrijede Gauss-Markovljevi uvjeti:\n",
    "\n",
    "-  $E[\\varepsilon _{i}]=0 ,\\forall i=1,2,...n$\n",
    "-  $E[\\varepsilon _{i}\\varepsilon _{j}]=0 ,\\forall i,j=1,...,n, i\\neq j$\n",
    "-  $Var[\\varepsilon_{i}]=\\sigma ^{2}>0,\\forall i=1,2,...n$\n",
    "\n",
    "Tada je nepristrani procjenjitelj za  θ metodom najmanjih kvadrata dan kao rješenje:\n",
    "$\\widehat{\\Theta }= \\left ( X^{T}X \\right )^{-1}X^{T}Y$.\n",
    "\n",
    "Definiramo matrice podataka:"
   ]
  },
  {
   "cell_type": "code",
   "execution_count": 7,
   "metadata": {},
   "outputs": [
    {
     "data": {
      "text/plain": [
       "array([[   18.13948769],\n",
       "       [-1485.16693975]])"
      ]
     },
     "execution_count": 7,
     "metadata": {},
     "output_type": "execute_result"
    }
   ],
   "source": [
    "import numpy.linalg as la\n",
    "n=len(x1)\n",
    "X=np.zeros((n,2))\n",
    "#prvi stupac sve 1, drugi stupac sve x1\n",
    "\n",
    "X[:,0]=1\n",
    "X[:,1]=x1\n",
    "\n",
    "Y=np.zeros((n,1))\n",
    "Y[:,0]=y\n",
    "    \n",
    "Theta=np.zeros((2,1))\n",
    "Theta=la.inv((X.T @ X)) @ X.T @ Y\n",
    "Theta"
   ]
  },
  {
   "cell_type": "markdown",
   "metadata": {},
   "source": [
    "Traženi linearni model je:\n",
    "$$y=18.1395-1485.1669*x_{1}.$$\n",
    "\n",
    "Dobiveni pravac zajedno s transformiranim podacima prikazan je na sljedećem grafu iz kojeg uočavamo jaku negativnu linearnu povezanost.\n"
   ]
  },
  {
   "cell_type": "code",
   "execution_count": 8,
   "metadata": {},
   "outputs": [
    {
     "data": {
      "image/png": "[encoded data removed]",
      "text/plain": [
       "<matplotlib.figure.Figure at 0x246324e38d0>"
      ]
     },
     "metadata": {},
     "output_type": "display_data"
    }
   ],
   "source": [
    "yp=np.polyval([Theta[1],Theta[0]],x1)\n",
    "plt.scatter(x1,y,facecolors='none',edgecolors='r')\n",
    "plt.xlim(-0.0005,0.005)\n",
    "plt.plot(x1,yp)\n",
    "plt.show()"
   ]
  },
  {
   "cell_type": "markdown",
   "metadata": {},
   "source": [
    "Provodimo analizu rasipanja podataka računanjem statistike $R^{2}$, tj koeficijenta determinacije.\n",
    "Dobiva se iz sljedećeg izraza:\n",
    "\n",
    "$$R^{2}=1-\\frac{SSE}{Syy},$$\n",
    "pri čemu su\n",
    " \n",
    "$$SSE=\\sum_{i=1}^{n}\\left ( Y_{i}-\\hat{Y_{i}} \\right )^{2},$$\n",
    "$$Syy=\\sum_{i=1}^{n}\\left ( Y_{i}-\\bar{Y} \\right )^{2}.$$\n",
    "\n",
    "Koeficijentom determinacije se ispituje reprezentativnost dobivenog modela.\n",
    "SSE opisuje rasipanje izlaznih podataka oko procijenjene regresijske funkcije.\n",
    "Syy opisuje rasipanje izlaznih podataka oko njihove sredine."
   ]
  },
  {
   "cell_type": "code",
   "execution_count": 9,
   "metadata": {},
   "outputs": [
    {
     "data": {
      "text/plain": [
       "0.9931399938918773"
      ]
     },
     "execution_count": 9,
     "metadata": {},
     "output_type": "execute_result"
    }
   ],
   "source": [
    "rez=np.array([])\n",
    "\n",
    "transf= lambda arg1: Theta[0]+Theta[1]*arg1;\n",
    "\n",
    "rez=((y-transf(x1))**2)\n",
    "\n",
    "SSE=sum(rez)\n",
    "ym=np.mean(y)\n",
    "Syy=sum((y-ym)**2)\n",
    "R2=1-SSE/Syy\n",
    "R2"
   ]
  },
  {
   "cell_type": "markdown",
   "metadata": {},
   "source": [
    "Koeficijent determinacije je približno $R^{2}$=0.9931, što tumačimo tako da 99.31% rasipanja izlaznih podataka potječe od funkcijske ovisnosti transformiranih podataka o regresijskoj funkciji, a samo 0.69% otpada na rezidualno raspipanje, tkz „neobjašnjeno rasipanje“ (preveliko neobjašnjeno rasipanje upućuje na promjenu modela).\n",
    "Može se zaključiti da je model jako dobro prilagođen podacima.\n"
   ]
  },
  {
   "cell_type": "markdown",
   "metadata": {},
   "source": [
    "## Testiranje hipoteza o koeficijentu regresije"
   ]
  },
  {
   "cell_type": "markdown",
   "metadata": {},
   "source": [
    "Za daljnju analizu adekvatnosti modela provodimo testiranje parametara modela. Pretpostavlja se da vrijede Gauss-Markovljevi uvjeti.\n",
    "\n",
    "Testiraju se sljedeće hipoteze o koeficijentu regresije:\n",
    "$$H_{0}: \\theta_{1}=-1500$$\n",
    "$$H_{1}: \\theta_{1} \\neq -1500$$\n",
    "\n",
    "Zapravo se radi o testiranju hipoteza:\n",
    "$$H_{0}: C\\theta-y=0$$\n",
    "$$H_{1}: C\\theta-y \\neq 0$$\n",
    "\n",
    "pri čemu su: C matrica tipa $m*(k+1)$ td $r(C)=m$ i y vektor tipa $m*1$, gdje je $m\\leq k$"
   ]
  },
  {
   "cell_type": "code",
   "execution_count": 10,
   "metadata": {},
   "outputs": [],
   "source": [
    "C=np.zeros((1,2))\n",
    "C[0,1]=1\n",
    "gamma=-1500"
   ]
  },
  {
   "cell_type": "markdown",
   "metadata": {},
   "source": [
    "Koristi se testna statistika F koja ima Fischerovu razdiobu:\n",
    "$$F=\\frac{(C\\hat{\\theta}-y)^{T}\\left [ C(X^{T}X)^{-1}C^{T}\\right ]^{-1}(C\\hat{\\theta}-y)}{m\\hat{\\sigma}^{2}}\\sim F(k,n-k-1),$$\n",
    "\n",
    "pri čemu je $\\hat{\\sigma}^{2}=\\frac{SSE}{n-k-1}$"
   ]
  },
  {
   "cell_type": "code",
   "execution_count": 11,
   "metadata": {},
   "outputs": [
    {
     "data": {
      "text/plain": [
       "array([[0.08664594]])"
      ]
     },
     "execution_count": 11,
     "metadata": {},
     "output_type": "execute_result"
    }
   ],
   "source": [
    "m=k=1\n",
    "sigmakap=SSE/(n-k-1)\n",
    "F=(C @ Theta - gamma) @ la.inv( C @ la.inv( X.T @ X ) @ C.T) @ ( C @ Theta - gamma)/sigmakap\n",
    "F"
   ]
  },
  {
   "cell_type": "markdown",
   "metadata": {},
   "source": [
    "Odredimo i *p-vrijednost* testa:"
   ]
  },
  {
   "cell_type": "code",
   "execution_count": 12,
   "metadata": {},
   "outputs": [
    {
     "data": {
      "text/plain": [
       "array([[0.77840352]])"
      ]
     },
     "execution_count": 12,
     "metadata": {},
     "output_type": "execute_result"
    }
   ],
   "source": [
    "from scipy.stats import f\n",
    "p=1-f.cdf(F, k, n-k-1, loc=0, scale=1)\n",
    "p"
   ]
  },
  {
   "cell_type": "markdown",
   "metadata": {},
   "source": [
    "Dobivena p-vrijednost testa je velika pa ne možemo odbaciti nultu hipotezu."
   ]
  },
  {
   "cell_type": "markdown",
   "metadata": {},
   "source": [
    "## Test prihvatljivosti reduciranog u odnosu na potpuni (prošireni) model"
   ]
  },
  {
   "cell_type": "markdown",
   "metadata": {},
   "source": [
    "Kada je linearnost prihvaćena, ovaj test se koristi u procesu odabira linearnog modela, odnosno kod određivanja varijabli $x^{(1)},x^{(2)},...,x^{(k)}$ ili funkcija $p_{1},p_{2},...,p_{k}$ koje će biti zastupljene modelom.\n",
    "\n",
    "Neka su u prvom slučaju odabrane varijable $z^{(1)},z^{(2)},...,z^{(m)}$, gdje je $0\\leq m< k$.\n",
    "\n",
    "-reducirani model (r=reduced):\n",
    "$$Y=\\theta _{0}+\\theta _{1}z^{(1)}+...+\\theta _{m}z^{(m)}+\\varepsilon _{z}$$\n",
    "-potpuni model (f=full):\n",
    "$$Y=\\theta _{0}+\\theta _{1}x^{(1)}+...+\\theta _{m}x^{(k)}+\\varepsilon _{x}$$"
   ]
  },
  {
   "cell_type": "markdown",
   "metadata": {},
   "source": [
    "Testiramo:\n",
    "\n",
    "$H_{0}:$ reducirani model je dovoljan\n",
    "\n",
    "$H_{1}:$ potpuni model je potreban\n",
    "\n",
    "Koristi se testna statistika:\n",
    "\n",
    "$$F=\\frac{( SSEr - SSEf )/(k-m)}{SSEf/(n-k-1)}\\sim F(k-m,n-k-1)$$"
   ]
  },
  {
   "cell_type": "code",
   "execution_count": 13,
   "metadata": {},
   "outputs": [
    {
     "data": {
      "text/plain": [
       "0.4310382336715697"
      ]
     },
     "execution_count": 13,
     "metadata": {},
     "output_type": "execute_result"
    }
   ],
   "source": [
    "Z=np.zeros((n,3))\n",
    "Z[:,0]=1\n",
    "Z[:,1]=x1\n",
    "Z[:,2]=x1**2\n",
    "\n",
    "thetaz=la.inv((Z.T @ Z)) @ Z.T @ Y\n",
    "transf2= lambda arg1: thetaz[0]+thetaz[1]*arg1+ thetaz[2]*arg1**2;\n",
    "z=np.array([])\n",
    "z=transf2(x1)\n",
    "ee=y-z\n",
    "\n",
    "SSEp=sum(ee**2)\n",
    "k=2\n",
    "m=1\n",
    "fstat=((SSE-SSEp)/(k-m))/(SSE/(n-k-1))\n",
    "\n",
    "pv=1-f.cdf(fstat,k-m,n-k-1)\n",
    "pv"
   ]
  },
  {
   "cell_type": "markdown",
   "metadata": {},
   "source": [
    "P-vrijednost testa iznosi približno 0.431 pa za određene razine značajnosti $\\alpha$ (za $p \\leq \\alpha$) odbacujemo nultu hipotezu u korist alternativne. Dakle, koji model je prihvatljiviji ovisi o razini značajnosti koju zahtijevamo.\n",
    "Ukoliko razina značajnosti nije određena, promatraju se grafovi reziduala i standardiziranih reziduala oba modela te grafovi pripadnih regresijskih funkcija."
   ]
  },
  {
   "cell_type": "markdown",
   "metadata": {},
   "source": [
    "## Testovi koreliranosti"
   ]
  },
  {
   "cell_type": "markdown",
   "metadata": {},
   "source": [
    "**Korelacija** predstavlja suodnos ili međusobnu povezanost između različitih pojava predstavljenih vrijednostima dvaju varijabli. *Koeficijenti korelacije* izražavaju mjeru povezanosti između dvije varijable. \n",
    "\n",
    "U praksi se prilikom rada s linearnim modelima najčešće koristi **Pearsonov koeficijent korelacije**:\n",
    "$$r=\\frac{S_{X Y}}{\\sqrt{S_{X X}*S_{Y Y}}}$$"
   ]
  },
  {
   "cell_type": "code",
   "execution_count": 14,
   "metadata": {},
   "outputs": [
    {
     "name": "stdout",
     "output_type": "stream",
     "text": [
      "Pearsonov koeficijent korelacije iznosi 0.730143, a p-vrijednost je:0.039723 .\n"
     ]
    }
   ],
   "source": [
    "xm=np.mean(x)\n",
    "Sxx=sum((x-xm)**2)\n",
    "Sxy=sum((x-xm)*(y-ym))\n",
    "r=Sxy/np.sqrt(Sxx*Syy)\n",
    "koef, pv=sc.stats.pearsonr(x,y)\n",
    "print('Pearsonov koeficijent korelacije iznosi %f, a p-vrijednost je:%f .'%(r, pv))"
   ]
  },
  {
   "cell_type": "markdown",
   "metadata": {},
   "source": [
    "Pearsonov koeficijent korelacije je vrijednost iz intervala $[-1,1]$, u ovom slučaju blizu 1 što upućuje na pozitivnu korelaciju, ali p-vrijednost je veoma mala.\n",
    "\n",
    "Pearsonov test zahtijeva normalnu distribuiranost podataka. Drugi test koreliranosti je pomoću **Spearmanovog koeficijenta korelacije**, bazira se na tome da se izmjeri dosljednost povezanosti između poredanih varijabli. Kao rezultat daje približnu vrijednost koeficijenta korelacije koji se tretira kao njegova dovoljno dobra aproksimacija .\n"
   ]
  },
  {
   "cell_type": "code",
   "execution_count": 15,
   "metadata": {},
   "outputs": [
    {
     "name": "stdout",
     "output_type": "stream",
     "text": [
      "Spearmanov koeficijent korelacije iznosi 0.988024, a p-vrijednost je:0.000004 .\n"
     ]
    }
   ],
   "source": [
    "ks,pv=sc.stats.spearmanr(x,y)\n",
    "print('Spearmanov koeficijent korelacije iznosi %f, a p-vrijednost je:%f .'%(ks, pv))"
   ]
  },
  {
   "cell_type": "markdown",
   "metadata": {},
   "source": [
    "Zaključujemo da postoji pozitivna koreliranost između podataka.\n"
   ]
  },
  {
   "cell_type": "markdown",
   "metadata": {},
   "source": [
    "## Reziduali"
   ]
  },
  {
   "cell_type": "markdown",
   "metadata": {},
   "source": [
    "Koristeći formulu regresijskog pravca, za svaku vrijednost $x_{1 i}$ moguće je izračunati pripadnu teorijsku vrijednost $y_{i}$.Računamo niz odstupanja teorijske od eksperimentalne vrijednosti. \n",
    "\n",
    "**Reziduali** su slučajne varijable $E_{i}=Y_{i}-\\bar{Y_{i}},$ odnosno njihove realizacije $e_{i}$ za i=1,...,n.\n",
    "\n",
    "**Standardizirani reziduali** su slučajne varijable\n",
    "$$E_{i}^{s}=\\frac{E_{i}}{\\hat{\\sigma }\\sqrt{1-h_{i i}}},$$\n",
    "\n",
    "gdje je $H=X(X^{T}X)^{-1}X^{T}=[h_{i j}],$ odnosno njihove realizacije $e_{i}^{s}$ za i=1,...,n.\n",
    "\n",
    "Za dovoljno veliki n i dovoljno male $h_{i i}$, standardizirani reziduali aproksimativno čine uzorak iz *N(0,1)* razdiobe."
   ]
  },
  {
   "cell_type": "code",
   "execution_count": 16,
   "metadata": {},
   "outputs": [
    {
     "data": {
      "image/png": "[encoded data removed]",
      "text/plain": [
       "<matplotlib.figure.Figure at 0x24632493c50>"
      ]
     },
     "metadata": {},
     "output_type": "display_data"
    }
   ],
   "source": [
    "e=np.array([])\n",
    "e=y-transf(x1)\n",
    "\n",
    "es=np.array([])\n",
    "\n",
    "H=np.zeros((n,n))\n",
    "H=X @ la.inv(X.T @ X) @ X.T\n",
    "\n",
    "h=np.diag(H)\n",
    "j=np.ones(n)\n",
    "\n",
    "es=e/np.sqrt(sigmakap*(j-h))\n",
    "\n",
    "plt.subplot(1,2,1)\n",
    "plt.scatter(y,e,color='green')\n",
    "plt.title('Graf reziduala')\n",
    "\n",
    "plt.subplot(1,2,2)\n",
    "plt.scatter(y,es,color='red')\n",
    "plt.title('Graf standardiziranih reziduala')\n",
    "plt.tight_layout()\n",
    "plt.show()"
   ]
  },
  {
   "cell_type": "markdown",
   "metadata": {},
   "source": [
    "Budući da su točke slučajno grupirane oko x-osi na oba grafa, možemo zaključiti da je prilagodba modela zadovoljavajuća."
   ]
  },
  {
   "cell_type": "markdown",
   "metadata": {},
   "source": [
    "## Provjera normalnosti reziduala"
   ]
  },
  {
   "cell_type": "markdown",
   "metadata": {},
   "source": [
    "Pomoću normalnog vjerojatnosnog grafa provjerava se dolaze li reziduali i standardizirani reziduali iz jedinične normalne distribucije. Kao primjer postupka, analizu provodimo za standardizirane reziduale.\n",
    "\n",
    "\n",
    "Podaci se prvo sortiraju, a potom pomoću funkcije distribucije $\\Phi $ jedinične normalne razdiobe definiramo:\n",
    "\n",
    "$$xe_{i}=\\Phi^{-1}\\left ( \\frac{i-\\frac{3}{8}}{n+\\frac{1}{4}} \\right ),  i=1,...,n.$$\n",
    "\n",
    "U Kartezijevom koordinatnom sustavu prikažu se točke $(xe_{i},es_{i} )$, i=1,...,n  te je dobiveni graf upravo normalni vjerojatnosni graf.\n"
   ]
  },
  {
   "cell_type": "code",
   "execution_count": 17,
   "metadata": {},
   "outputs": [
    {
     "data": {
      "image/png": "[encoded data removed]",
      "text/plain": [
       "<matplotlib.figure.Figure at 0x246329becc0>"
      ]
     },
     "metadata": {},
     "output_type": "display_data"
    }
   ],
   "source": [
    "from scipy import stats\n",
    "from scipy.stats import norm\n",
    "\n",
    "e2=np.sort(es)\n",
    "xe=np.zeros(n)\n",
    "def nmg(x): return  norm.ppf((x-3/8)/(n+1/4), loc=0, scale=1)\n",
    "\n",
    "for i in range(1,9): xe[i-1]=nmg(i)\n",
    "\n",
    "plt.plot([-2,2],[-2,2],color='red')\n",
    "plt.scatter(xe,e2)\n",
    "plt.title('Normalni vjerojatnosni graf')\n",
    "plt.xlabel('xe')\n",
    "plt.ylabel('e2')\n",
    "plt.show()"
   ]
  },
  {
   "cell_type": "markdown",
   "metadata": {},
   "source": [
    "Točke $(xe,e2)$ u normalnom vjerojatnosnom grafu moraju biti aproksimativno na pravcu $y=\\mu +\\sigma*x$."
   ]
  },
  {
   "cell_type": "markdown",
   "metadata": {},
   "source": [
    "## Pouzdano područje za $\\Theta$"
   ]
  },
  {
   "cell_type": "markdown",
   "metadata": {},
   "source": [
    "Neka su $L_{n}=l_{n}(X_{1},X_{2},...,X_{n})$ i $D_{n}=d_{n}(X_{1},X_{2},...,X_{n})$ statistike slučajnog uzorka $X_{1},X_{2},...,X_{n}$. Za $[L_{n},D_{n}]$ kažemo da je $(1-\\alpha)$100% **pouzdani interval** za parametar $\\tau$ ako vrijedi:\n",
    "\n",
    "$$\\mathbb{P}\\left ( L_{n}\\leq \\tau\\leq D_{n} \\right )\\geq 1-\\alpha, \\alpha \\in \\left \\langle 0,1 \\right \\rangle.$$\n",
    "\n",
    "Pouzdano područje je višedimenzionalan prikaz pouzdanih intervala. Radi se o nizu točaka u n-dimenzionalnom prostoru, za n=1 to je unutrašnjost elipse, n=2 unutrašnjost elipsoida, itd."
   ]
  },
  {
   "cell_type": "markdown",
   "metadata": {},
   "source": [
    "Pouzdani intervali za $\\theta_{j}$ konstruiraju se koristeći:\n",
    "\n",
    "$$\\frac{\\hat{\\theta_{j}}-\\theta_{j}}{\\hat{\\sigma}{\\sqrt{c_{jj}}} }\\sim t(n-k-1),$$ \n",
    "\n",
    "gdje je $C=(X^{T}X)^{-1}=[c_{j j}]$, za j=1,...,k."
   ]
  },
  {
   "cell_type": "markdown",
   "metadata": {},
   "source": [
    "Iz izraza\n",
    "$$\\mathbb{P}_{\\theta_{j}}\\left ( -t_{1-\\frac{\\alpha}{2}}(n-k-1)\\leq \\frac{\\hat{\\theta_{j}}-\\theta_{j}}{\\hat{\\sigma}{\\sqrt{c_{jj}}} }\\leq t_{1-\\frac{\\alpha}{2}}(n-k-1) \\right )=1-\\alpha$$\n",
    "dobivamo pouzdana područja za parametre regresije.\n",
    "Prikažimo 95% pouzdano područje za $\\Theta.$\n"
   ]
  },
  {
   "cell_type": "code",
   "execution_count": 18,
   "metadata": {},
   "outputs": [],
   "source": [
    "from scipy.stats import t\n",
    "alfa=0.05\n",
    "C=np.zeros((2,2))\n",
    "C=la.inv(X.T @ X)\n",
    "ci=np.diag(C)\n",
    "t=t.ppf(1-alfa/2,n-k-1, loc=0, scale=1)\n",
    "\n",
    "lrub=Theta.T-t*np.sqrt(sigmakap*ci)\n",
    "drub=Theta.T+t*np.sqrt(sigmakap*ci)"
   ]
  },
  {
   "cell_type": "markdown",
   "metadata": {},
   "source": [
    "Dakle, 95% pouzdani interval za $\\theta_{0}$ je [17.86175,18.41722], a 95% pouzdani interval za $\\theta_{1}$ je [-1608.47032,-1361.86356]."
   ]
  },
  {
   "cell_type": "markdown",
   "metadata": {},
   "source": [
    "Grafički prikaz 95% pouzdanog područja za $\\theta=(\\theta_{0},\\theta_{1})$ konstruiramo koristeći:\n",
    "\n",
    "$$F=\\frac{1}{\\left ( k+1 \\right )\\hat{\\sigma} ^{2}}((X^{T}X)(\\theta-\\hat{\\theta}),\\theta-\\hat{\\theta})\\sim F(k+1,n-k-1).$$\n",
    "\n",
    "Zbog  $\\mathbb{P}(F\\leq f_{\\alpha})=1-\\alpha$  iz  $F\\leq f_{\\alpha}\\leq 0$ dobiva se traženo pouzdano područje. U ovom slučaju k=1 pa očekujemo unutrašnjost elipse.\n"
   ]
  },
  {
   "cell_type": "code",
   "execution_count": 19,
   "metadata": {},
   "outputs": [
    {
     "data": {
      "text/html": [
       "<img src=\"https://upload.wikimedia.org/wikipedia/en/thumb/b/b4/Ellipse_Animation.gif/640px-Ellipse_Animation.gif\"/>"
      ],
      "text/plain": [
       "<IPython.core.display.Image object>"
      ]
     },
     "metadata": {},
     "output_type": "display_data"
    }
   ],
   "source": [
    "from IPython.display import Image\n",
    "from IPython.display import display\n",
    "display(Image(url='https://upload.wikimedia.org/wikipedia/en/thumb/b/b4/Ellipse_Animation.gif/640px-Ellipse_Animation.gif'))"
   ]
  },
  {
   "cell_type": "markdown",
   "metadata": {},
   "source": [
    "Definiramo funkciju:\n",
    "$$\\theta\\mapsto \\frac{(\\theta-\\hat{\\theta})^{T}(X^{T}X)(\\theta-\\hat{\\theta})}{(k+1)\\hat{\\sigma} }-f_{\\alpha}(k+1,n-k-1)$$\n",
    "\n",
    "U matričnom zapisu funkcija ima oblik $\\theta^{T}M\\theta+v^{T}\\theta+c,$ gdje su $\\theta$ vektor stupac, M simetrična matrica reda 2, v vektor stupac dimenzije 2 te c konstanta."
   ]
  },
  {
   "cell_type": "code",
   "execution_count": 20,
   "metadata": {},
   "outputs": [],
   "source": [
    "from scipy.stats import f\n",
    "fk=f.ppf(1-alfa,k+1,n-k-1,loc=0,scale=1)\n",
    "\n",
    "M=(X.T @ X)/((k+1)*sigmakap)\n",
    "v=-2*(X.T @ X @ Theta)/((k+1)*sigmakap)\n",
    "c=(Theta.T @ X.T @ X @ Theta)/((k+1)*sigmakap)-fk"
   ]
  },
  {
   "cell_type": "markdown",
   "metadata": {},
   "source": [
    "Jednadžba se svodi na kanonski oblik:\n",
    "\n",
    "$$\\frac{(x-s_{x})^{2}}{r_{x}}+\\frac{(y-s_{y})^{2})}{r_{y}}\\leq 1$$"
   ]
  },
  {
   "cell_type": "code",
   "execution_count": 21,
   "metadata": {},
   "outputs": [],
   "source": [
    "sv=la.eig(M)\n",
    "Msv=sv[0] \n",
    "vektori=sv[1] \n",
    "\n",
    "vc=vektori.T @ v \n",
    "\n",
    "A=vektori.T @ M @ vektori\n",
    "sx=-vc[0]/(2*A[0,0])\n",
    "sy=-vc[1]/(2*A[1,1])\n",
    "\n",
    "pom=c-A[0,0]*(sx**2)-A[1,1]*(sy**2)\n",
    "\n",
    "rx=np.sqrt(-pom/A[0,0])\n",
    "ry=np.sqrt(-pom/A[1,1])"
   ]
  },
  {
   "cell_type": "markdown",
   "metadata": {},
   "source": [
    "Zbog jednostavnijeg grafičkog prikaza radi se transformacija u polarne koordinate.\n"
   ]
  },
  {
   "cell_type": "code",
   "execution_count": 22,
   "metadata": {},
   "outputs": [
    {
     "data": {
      "image/png": "[encoded data removed]",
      "text/plain": [
       "<matplotlib.figure.Figure at 0x24632a75b70>"
      ]
     },
     "metadata": {},
     "output_type": "display_data"
    }
   ],
   "source": [
    "import math\n",
    "theta=np.linspace(start=0,stop=2*math.pi,num=150)\n",
    "\n",
    "xx=np.array([])\n",
    "yy=np.array([])\n",
    "\n",
    "xx=vektori[0,0]*(sx+rx*np.cos(theta))+vektori[0,1]*(sy+ry*np.sin(theta))\n",
    "\n",
    "yy=vektori[1,0]*(sx+rx*np.cos(theta))+vektori[1,1]*(sy+ry*np.sin(theta))\n",
    "\n",
    "plt.scatter(xx,yy, c=np.arctan2(xx,yy), cmap='rainbow', s=50, alpha=0.8)\n",
    "plt.title('Pouzdano područje za θ')\n",
    "plt.xlabel('xx')\n",
    "plt.ylabel('yy')\n",
    "plt.show()"
   ]
  },
  {
   "cell_type": "markdown",
   "metadata": {},
   "source": [
    "Dakle, uz pretpostavku da je linearan model dobar za transformirane podatke, model (regresijska funkcija) za originalne podatke glasi: $y=18.1395-1485.1669*\\frac{1}{x}$ .\n"
   ]
  },
  {
   "cell_type": "code",
   "execution_count": 23,
   "metadata": {},
   "outputs": [
    {
     "data": {
      "image/png": "[encoded data removed]",
      "text/plain": [
       "<matplotlib.figure.Figure at 0x2463246c6d8>"
      ]
     },
     "metadata": {},
     "output_type": "display_data"
    }
   ],
   "source": [
    "xniz=np.linspace(start=220,stop=8400,num=8181)\n",
    "yniz=Theta[0]+Theta[1]/xniz\n",
    "plt.plot(xniz,yniz)\n",
    "plt.title('Graf regresijske fje')\n",
    "plt.scatter(x,y,facecolors='none',edgecolors='r')\n",
    "plt.show()"
   ]
  },
  {
   "cell_type": "code",
   "execution_count": 24,
   "metadata": {},
   "outputs": [
    {
     "data": {
      "image/png": "[encoded data removed]",
      "text/plain": [
       "<matplotlib.figure.Figure at 0x2463296c048>"
      ]
     },
     "metadata": {},
     "output_type": "display_data"
    }
   ],
   "source": [
    "ykap=transf(1/x)\n",
    "plt.plot([11,19],[11,19],color='yellow')\n",
    "plt.scatter(y,ykap,facecolors='none',edgecolors='g')\n",
    "plt.xlabel('y')\n",
    "plt.ylabel('ykap')\n",
    "plt.show()\n"
   ]
  },
  {
   "cell_type": "markdown",
   "metadata": {},
   "source": [
    "Vidljivo je da su točke (y,ykap) aproksimativno na pravcu y=x, tj. grupiraju se oko pravca što potvrđuje da je model dobar za originalne podatke."
   ]
  }
 ],
 "metadata": {
  "kernelspec": {
   "display_name": "Python 3",
   "language": "python",
   "name": "python3"
  },
  "language_info": {
   "codemirror_mode": {
    "name": "ipython",
    "version": 3
   },
   "file_extension": ".py",
   "mimetype": "text/x-python",
   "name": "python",
   "nbconvert_exporter": "python",
   "pygments_lexer": "ipython3",
   "version": "3.6.4"
  }
 },
 "nbformat": 4,
 "nbformat_minor": 2
}
