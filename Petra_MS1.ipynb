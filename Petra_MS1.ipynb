{
 "cells": [
  {
   "cell_type": "markdown",
   "metadata": {},
   "source": [
    "# LINEARNA REGRESIJA\n",
    "\n",
    "\n",
    "  \n",
    "U statistici, ** *linearna regresija* ** se odnosi na svaki pristup modeliranju relacija između jedne ili više varijabli označene sa Y te jedne ili više varijabli označene sa X, na način da takav model linearno ovisi o nepoznatim parametrima koji su procijenjeni iz podataka. \n",
    "\n",
    "Neka su $x^{(1)},x^{(2)},...,x^{(k)}$ kontrolirane (neslučajne) varijable i Y slučajna varijabla mjerena u ovisnosti o $x=(x^{(1)},x^{(2)},...,x^{(k)})$, odnosno $Y=Y(x)$.\n",
    "\n",
    "Linearni model ovisnosti veličine Y o x zadan je sa\n",
    "\n",
    "$$Y=\\theta _{0}+\\theta _{1}x^{(1)}+...+\\theta _{k}x^{(k)}+\\varepsilon, $$\n",
    "\n",
    "pri čemu je $\\varepsilon$ slučajna pogreška, a $\\theta_{0},\\theta_{1},...,\\theta_{k}$ parametri modela.\n",
    "\n",
    "\n",
    "U sljedećem radu ispituje se linearna zavisnost podataka i konstruira odgovarajući aproksimativni model koristeći linearnu regresiju."
   ]
  },
  {
   "cell_type": "code",
   "execution_count": 9,
   "metadata": {},
   "outputs": [],
   "source": [
    "import pandas as pd\n",
    "import sympy as sp\n",
    "import scipy as sc\n",
    "import numpy as np\n",
    "\n",
    "from IPython.display import display\n",
    "from ipywidgets import interact, fixed, interact_manual\n",
    "import ipywidgets as widgets"
   ]
  },
  {
   "cell_type": "markdown",
   "metadata": {},
   "source": [
    "Rad * „Thermal Conductivity of Polyethylene: The Effects of Crystal Size, Density and Orientation on the Thermal Conductivity“ (Polymer Eng. and Science, 1972., str 204-208)* proučava vezu između termičke vodljivosti i lamelarne gustoće. \n",
    "\n",
    "**Termička vodljivost** je fizikalna veličina koja opisuje kako toplina prolazi kroz tvari. \n",
    "Ovisi o vrsti, strukturi, gustoći, vlažnosti i temperaturi tvari. Računa se prema formuli:\n",
    "\n",
    "$$\\lambda =\\frac{Ql}{St\\Delta T}$$.\n",
    "\n",
    "Podaci o mjerenjima dobiveni su iz *DEVORE, JAY L., Probability and Statistics for Engineering and the Sciences, 1982., Brooks/Cole Publishing Company, Monterey, California, str. 476*."
   ]
  },
  {
   "cell_type": "markdown",
   "metadata": {},
   "source": [
    "## Prikaz podataka\n"
   ]
  },
  {
   "cell_type": "markdown",
   "metadata": {},
   "source": [
    "U daljnjem razmatranju termičku vodljivost označavat ćemo s x, a lamelarnu gustoću s y.\n",
    "Prikažimo dobivene podatke grafički."
   ]
  },
  {
   "cell_type": "code",
   "execution_count": 10,
   "metadata": {},
   "outputs": [
    {
     "data": {
      "image/png": "[encoded data removed]",
      "text/plain": [
       "<matplotlib.figure.Figure at 0x19c729ad438>"
      ]
     },
     "metadata": {},
     "output_type": "display_data"
    }
   ],
   "source": [
    "x=np.array([240,410,460,490,520,590,745,8300])\n",
    "y=np.array([12.0,14.7,14.7,15.2,15.2,15.6,16.0,18.1])\n",
    "\n",
    "import matplotlib.pyplot as plt\n",
    "plt.scatter(x,y,facecolors='none',edgecolors='b')\n",
    "plt.xlabel('termička vodljivost')\n",
    "plt.ylabel('lamelarna gustoća')\n",
    "plt.show()"
   ]
  },
  {
   "cell_type": "markdown",
   "metadata": {},
   "source": [
    "Iz grafa ne uočavamo postojanje linearne zavisnosti, stoga je potrebna daljnja transformacija podataka. Definiraju se novi podaci: $$x_{1}=\\frac{1}{x}$$."
   ]
  },
  {
   "cell_type": "code",
   "execution_count": 11,
   "metadata": {
    "scrolled": true
   },
   "outputs": [
    {
     "data": {
      "image/png": "[encoded data removed]",
      "text/plain": [
       "<matplotlib.figure.Figure at 0x19c729ad1d0>"
      ]
     },
     "metadata": {},
     "output_type": "display_data"
    }
   ],
   "source": [
    "x1=1/x\n",
    "plt.scatter(x1,y,facecolors='none',edgecolors='r')\n",
    "plt.xlim(-0.0001,0.005)\n",
    "plt.xlabel('termička vodljivost')\n",
    "plt.ylabel('lamelarna gustoća')\n",
    "plt.title('Transformirani podaci')\n",
    "plt.show()"
   ]
  },
  {
   "cell_type": "markdown",
   "metadata": {},
   "source": [
    "Iz grafa transformiranih podataka jasno je da točke upućuju na aproksimaciju pravcem.\n",
    "Prilagodba linearnog modela $y=\\theta_{0}+\\theta _{1}x_{1}$  provodi se uz pretpostavku da vrijede Gauss-Markovljevi uvjeti:\n",
    "\n",
    "-  $E[\\varepsilon _{i}]=0 ,\\forall i=1,2,...n$\n",
    "-  $E[\\varepsilon _{i}\\varepsilon _{j}]=0 ,\\forall i,j=1,...,n, i\\neq j$\n",
    "-  $Var[\\varepsilon_{i}]=\\sigma ^{2}>0,\\forall i=1,2,...n$\n",
    "\n",
    "Tada je nepristrani procjenjitelj za  θ metodom najmanjih kvadrata dan kao rješenje:\n",
    "$\\widehat{\\Theta }= \\left ( X^{T}X \\right )^{-1}X^{T}Y$.\n",
    "\n",
    "Definiramo matrice podataka:"
   ]
  },
  {
   "cell_type": "code",
   "execution_count": 12,
   "metadata": {},
   "outputs": [
    {
     "data": {
      "text/plain": [
       "array([[   18.13948769],\n",
       "       [-1485.16693975]])"
      ]
     },
     "execution_count": 12,
     "metadata": {},
     "output_type": "execute_result"
    }
   ],
   "source": [
    "import numpy.linalg as la\n",
    "n=len(x1)\n",
    "X=np.zeros((n,2))\n",
    "#prvi stupac sve 1, drugi stupac sve x1\n",
    "\n",
    "X[:,0]=1\n",
    "X[:,1]=x1\n",
    "\n",
    "Y=np.zeros((n,1))\n",
    "Y[:,0]=y\n",
    "    \n",
    "Theta=np.zeros((2,1))\n",
    "Theta=la.inv((X.T @ X)) @ X.T @ Y\n",
    "Theta"
   ]
  },
  {
   "cell_type": "markdown",
   "metadata": {},
   "source": [
    "Traženi linearni model je:\n",
    "$$y=18.1395-1485.1669*x_{1}.$$\n",
    "\n",
    "Dobiveni pravac zajedno s transformiranim podacima prikazan je na sljedećem grafu iz kojeg uočavamo jaku negativnu linearnu povezanost.\n"
   ]
  },
  {
   "cell_type": "code",
   "execution_count": 13,
   "metadata": {},
   "outputs": [
    {
     "data": {
      "image/png": "[encoded data removed]",
      "text/plain": [
       "<matplotlib.figure.Figure at 0x19c729ad710>"
      ]
     },
     "metadata": {},
     "output_type": "display_data"
    }
   ],
   "source": [
    "yp=np.polyval([Theta[1],Theta[0]],x1)\n",
    "plt.scatter(x1,y,facecolors='none',edgecolors='r')\n",
    "plt.xlim(-0.0005,0.005)\n",
    "plt.plot(x1,yp)\n",
    "plt.show()"
   ]
  },
  {
   "cell_type": "markdown",
   "metadata": {},
   "source": [
    "Provodimo analizu rasipanja podataka računanjem statistike $R^{2}$, tj koeficijenta determinacije.\n",
    "Dobiva se iz sljedećeg izraza:\n",
    "\n",
    "$$R^{2}=1-\\frac{SSE}{Syy},$$\n",
    "pri čemu su\n",
    " \n",
    "$$SSE=\\sum_{i=1}^{n}\\left ( Y_{i}-\\hat{Y_{i}} \\right )^{2},$$\n",
    "$$Syy=\\sum_{i=1}^{n}\\left ( Y_{i}-\\bar{Y} \\right )^{2}.$$\n",
    "\n",
    "Koeficijentom determinacije se ispituje reprezentativnost dobivenog modela.\n",
    "SSE opisuje rasipanje izlaznih podataka oko procijenjene regresijske funkcije.\n",
    "Syy opisuje rasipanje izlaznih podataka oko njihove sredine."
   ]
  },
  {
   "cell_type": "code",
   "execution_count": 14,
   "metadata": {},
   "outputs": [
    {
     "data": {
      "text/plain": [
       "0.9931399938918773"
      ]
     },
     "execution_count": 14,
     "metadata": {},
     "output_type": "execute_result"
    }
   ],
   "source": [
    "rez=np.array([])\n",
    "\n",
    "transf= lambda arg1: Theta[0]+Theta[1]*arg1;\n",
    "\n",
    "rez=((y-transf(x1))**2)\n",
    "\n",
    "SSE=sum(rez)\n",
    "\n",
    "asy=np.mean(y)\n",
    "\n",
    "Syy=sum((y-asy)**2)\n",
    "\n",
    "R2=1-SSE/Syy\n",
    "R2"
   ]
  },
  {
   "cell_type": "markdown",
   "metadata": {},
   "source": [
    "Koeficijent determinacije je približno $R^{2}$=0.9931, što tumačimo tako da 99.31% rasipanja izlaznih podataka potječe od funkcijske ovisnosti transformiranih podataka o regresijskoj funkciji, a samo 0.69% otpada na rezidualno raspipanje, tkz „neobjašnjeno rasipanje“ (preveliko neobjašnjeno rasipanje upućuje na promjenu modela).\n",
    "Može se zaključiti da je model jako dobro prilagođen podacima.\n"
   ]
  },
  {
   "cell_type": "markdown",
   "metadata": {},
   "source": [
    "## Testiranje hipoteza o koeficijentu regresije"
   ]
  },
  {
   "cell_type": "markdown",
   "metadata": {},
   "source": [
    "Za daljnju analizu adekvatnosti modela provodimo testiranje parametara modela. Pretpostavlja se da vrijede Gauss-Markovljevi uvjeti......nadopuniti\n"
   ]
  },
  {
   "cell_type": "markdown",
   "metadata": {},
   "source": [
    "## Reziduali"
   ]
  },
  {
   "cell_type": "markdown",
   "metadata": {},
   "source": [
    "Koristeći formulu regresijskog pravca, za svaku vrijednost $x_{1 i}$ moguće je izračunati pripadnu teorijsku vrijednost $y_{i}$.Računamo niz odstupanja teorijske od eksperimentalne vrijednosti. \n",
    "\n",
    "**Reziduali** su slučajne varijable $E_{i}=Y_{i}-\\bar{Y_{i}},$ odnosno njihove realizacije $e_{i}$ za i=1,...,n.\n",
    "\n",
    "**Standardizirani reziduali** su slučajne varijable\n",
    "$$E_{i}^{s}=\\frac{E_{i}}{\\hat{\\sigma }\\sqrt{1-h_{i i}}},$$\n",
    "\n",
    "gdje je $H=X(X^{T}X)^{-1}X^{T}=[h_{i j}],$ odnosno njihove realizacije $e_{i}^{s}$ za i=1,...,n.\n",
    "\n",
    "Za dovoljno veliki n i dovoljno male $h_{i i}$, standardizirani reziduali aproksimativno čine uzorak iz *N(0,1)* razdiobe."
   ]
  },
  {
   "cell_type": "code",
   "execution_count": 16,
   "metadata": {},
   "outputs": [
    {
     "data": {
      "image/png": "[encoded data removed]",
      "text/plain": [
       "<matplotlib.figure.Figure at 0x19c72ebe7b8>"
      ]
     },
     "metadata": {},
     "output_type": "display_data"
    }
   ],
   "source": [
    "e=np.array([])\n",
    "e=y-transf(x1)\n",
    "\n",
    "es=np.array([])\n",
    "\n",
    "H=np.zeros((n,n))\n",
    "H=X @ la.inv(X.T @ X) @ X.T\n",
    "\n",
    "h=np.diag(H)\n",
    "\n",
    "#ovo pribaci gore\n",
    "k=1\n",
    "sigmakap=SSE/(n-k-1)\n",
    "j=np.ones(n)\n",
    "\n",
    "es=e/np.sqrt(sigmakap*(j-h))\n",
    "\n",
    "plt.subplot(1,2,1)\n",
    "plt.scatter(y,e,color='green')\n",
    "plt.title('Graf reziduala')\n",
    "\n",
    "plt.subplot(1,2,2)\n",
    "plt.scatter(y,es,color='red')\n",
    "plt.title('Graf standardiziranih reziduala')\n",
    "plt.tight_layout()\n",
    "plt.show()"
   ]
  },
  {
   "cell_type": "markdown",
   "metadata": {},
   "source": [
    "Budući da su točke slučajno grupirane oko x-osi na oba grafa, možemo zaključiti da je prilagodba modela zadovoljavajuća."
   ]
  },
  {
   "cell_type": "markdown",
   "metadata": {},
   "source": [
    "## Provjera normalnosti reziduala"
   ]
  },
  {
   "cell_type": "markdown",
   "metadata": {},
   "source": [
    "Pomoću normalnog vjerojatnosnog grafa provjerava se dolaze li reziduali i standardizirani reziduali iz jedinične normalne distribucije. Kao primjer postupka, analizu provodimo za standardizirane reziduale.\n",
    "\n",
    "\n",
    "Podaci se prvo sortiraju, a potom pomoću funkcije distribucije $\\Phi $ jedinične normalne razdiobe definiramo:\n",
    "\n",
    "$$xe_{i}=\\Phi^{-1}\\left ( \\frac{i-\\frac{3}{8}}{n+\\frac{1}{4}} \\right ),  i=1,...,n.$$\n",
    "\n",
    "U Kartezijevom koordinatnom sustavu prikažu se točke $(xe_{i},es_{i} )$, i=1,...,n  te je dobiveni graf upravo normalni vjerojatnosni graf.\n"
   ]
  },
  {
   "cell_type": "code",
   "execution_count": 17,
   "metadata": {},
   "outputs": [
    {
     "data": {
      "image/png": "[encoded data removed]",
      "text/plain": [
       "<matplotlib.figure.Figure at 0x19c72edb828>"
      ]
     },
     "metadata": {},
     "output_type": "display_data"
    }
   ],
   "source": [
    "from scipy import stats\n",
    "from scipy.stats import norm\n",
    "\n",
    "e2=np.sort(es)\n",
    "xe=np.zeros(n)\n",
    "def nmg(x): return  norm.ppf((x-3/8)/(n+1/4), loc=0, scale=1)\n",
    "\n",
    "for i in range(1,9): xe[i-1]=nmg(i)\n",
    "\n",
    "plt.plot([-2,2],[-2,2],color='red')\n",
    "plt.scatter(xe,e2)\n",
    "plt.title('Normalni vjerojatnosni graf')\n",
    "plt.xlabel('xe')\n",
    "plt.ylabel('e2')\n",
    "plt.show()"
   ]
  },
  {
   "cell_type": "markdown",
   "metadata": {},
   "source": [
    "Točke $(xe,e2)$ u normalnom vjerojatnosnom grafu moraju biti aproksimativno na pravcu $y=\\mu +\\sigma*x$."
   ]
  },
  {
   "cell_type": "markdown",
   "metadata": {},
   "source": [
    "## Pouzdano područje za $\\Theta$"
   ]
  },
  {
   "cell_type": "markdown",
   "metadata": {},
   "source": [
    "Neka su $L_{n}=l_{n}(X_{1},X_{2},...,X_{n})$ i $D_{n}=d_{n}(X_{1},X_{2},...,X_{n})$ statistike slučajnog uzorka $X_{1},X_{2},...,X_{n}$. Za $[L_{n},D_{n}]$ kažemo da je $(1-\\alpha)$100% **pouzdani interval** za parametar $\\tau$ ako vrijedi:\n",
    "\n",
    "$$\\mathbb{P}\\left ( L_{n}\\leq \\tau\\leq D_{n} \\right )\\geq 1-\\alpha, \\alpha \\in \\left \\langle 0,1 \\right \\rangle.$$\n",
    "\n",
    "Pouzdano područje je višedimenzionalan prikaz pouzdanih intervala. Radi se o nizu točaka u n-dimenzionalnom prostoru, za n=1 to je unutrašnjost elipse, n=2 unutrašnjost elipsoida, itd."
   ]
  },
  {
   "cell_type": "markdown",
   "metadata": {},
   "source": [
    "Pouzdani intervali za $\\theta_{j}$ konstruiraju se koristeći:\n",
    "\n",
    "$$\\frac{\\hat{\\theta_{j}}-\\theta_{j}}{\\hat{\\sigma}{\\sqrt{c_{jj}}} }\\sim t(n-k-1),$$ \n",
    "\n",
    "gdje je $C=(X^{T}X)^{-1}=[c_{j j}]$, za j=1,...,k."
   ]
  },
  {
   "cell_type": "markdown",
   "metadata": {},
   "source": [
    "Iz izraza\n",
    "$$\\mathbb{P}_{\\theta_{j}}\\left ( -t_{1-\\frac{\\alpha}{2}}(n-k-1)\\leq \\frac{\\hat{\\theta_{j}}-\\theta_{j}}{\\hat{\\sigma}{\\sqrt{c_{jj}}} }\\leq t_{1-\\frac{\\alpha}{2}}(n-k-1) \\right )=1-\\alpha$$\n",
    "dobivamo pouzdana područja za parametre regresije.\n",
    "Prikažimo 95% pouzdano područje za $\\Theta.$\n"
   ]
  },
  {
   "cell_type": "code",
   "execution_count": 20,
   "metadata": {},
   "outputs": [
    {
     "data": {
      "text/plain": [
       "array([[   18.41722147, -1361.86355811]])"
      ]
     },
     "execution_count": 20,
     "metadata": {},
     "output_type": "execute_result"
    }
   ],
   "source": [
    "from scipy.stats import t\n",
    "alfa=0.05\n",
    "C=np.zeros((2,2))\n",
    "C=la.inv(X.T @ X)\n",
    "ci=np.diag(C)\n",
    "t=t.ppf(1-alfa/2,n-k-1, loc=0, scale=1)\n",
    "\n",
    "lrub=Theta.T-t*np.sqrt(sigmakap*ci)\n",
    "drub=Theta.T+t*np.sqrt(sigmakap*ci)"
   ]
  },
  {
   "cell_type": "markdown",
   "metadata": {},
   "source": [
    "Dakle, 95% pouzdani interval za $\\theta_{0}$ je [17.86175,18.41722], a 95% pouzdani interval za $\\theta_{1}$ je [-1608.47032,-1361.86356]."
   ]
  },
  {
   "cell_type": "markdown",
   "metadata": {},
   "source": [
    "Grafički prikaz 95% pouzdanog područja za $\\theta=(\\theta_{0},\\theta_{1})$ konstruiramo koristeći:\n",
    "\n",
    "$$F=\\frac{1}{\\left ( k+1 \\right )\\hat{\\sigma} ^{2}}((X^{T}X)(\\theta-\\hat{\\theta}),\\theta-\\hat{\\theta})\\sim F(k+1,n-k-1).$$\n",
    "\n",
    "Zbog  $\\mathbb{P}(F\\leq f_{\\alpha})=1-\\alpha$  iz  $F\\leq f_{\\alpha}\\leq 0$ dobiva se traženo pouzdano područje. U ovom slučaju k=1 pa očekujemo unutrašnjost elipse.\n"
   ]
  },
  {
   "cell_type": "markdown",
   "metadata": {},
   "source": [
    "Definiramo funkciju:\n",
    "$$\\theta\\mapsto \\frac{(\\theta-\\hat{\\theta})^{T}(X^{T}X)(\\theta-\\hat{\\theta})}{(k+1)\\hat{\\sigma} }-f_{\\alpha}(k+1,n-k-1)$$\n",
    "\n",
    "U matričnom zapisu funkcija ima oblik $\\theta^{T}M\\theta+v^{T}\\theta+c,$ gdje su $\\theta$ vektor stupac, M simetrična matrica reda 2, v vektor stupac dimenzije 2 te c konstanta."
   ]
  },
  {
   "cell_type": "code",
   "execution_count": 21,
   "metadata": {},
   "outputs": [],
   "source": [
    "from scipy.stats import f\n",
    "fk=f.ppf(1-alfa,k+1,n-k-1,loc=0,scale=1)\n",
    "\n",
    "M=(X.T @ X)/((k+1)*sigmakap)\n",
    "v=-2*(X.T @ X @ Theta)/((k+1)*sigmakap)\n",
    "c=(Theta.T @ X.T @ X @ Theta)/((k+1)*sigmakap)-fk"
   ]
  },
  {
   "cell_type": "markdown",
   "metadata": {},
   "source": [
    "Jednadžba se svodi na kanonski oblik:\n",
    "\n",
    "$$\\frac{(x-s_{x})^{2}}{r_{x}}+\\frac{(y-s_{y})^{2})}{r_{y}}\\leq 1$$"
   ]
  },
  {
   "cell_type": "code",
   "execution_count": 22,
   "metadata": {},
   "outputs": [],
   "source": [
    "sv=la.eig(M)\n",
    "Msv=sv[0] \n",
    "vektori=sv[1] \n",
    "\n",
    "vc=vektori.T @ v \n",
    "\n",
    "A=vektori.T @ M @ vektori\n",
    "sx=-vc[0]/(2*A[0,0])\n",
    "sy=-vc[1]/(2*A[1,1])\n",
    "\n",
    "pom=c-A[0,0]*(sx**2)-A[1,1]*(sy**2)\n",
    "\n",
    "rx=np.sqrt(-pom/A[0,0])\n",
    "ry=np.sqrt(-pom/A[1,1])"
   ]
  },
  {
   "cell_type": "markdown",
   "metadata": {},
   "source": [
    "Zbog jednostavnijeg grafičkog prikaza radi se transformacija u polarne koordinate.\n"
   ]
  },
  {
   "cell_type": "code",
   "execution_count": 23,
   "metadata": {},
   "outputs": [
    {
     "data": {
      "image/png": "[encoded data removed]",
      "text/plain": [
       "<matplotlib.figure.Figure at 0x19c738c0400>"
      ]
     },
     "metadata": {},
     "output_type": "display_data"
    }
   ],
   "source": [
    "import math\n",
    "theta=np.linspace(start=0,stop=2*math.pi,num=1000)\n",
    "\n",
    "xx=np.array([])\n",
    "yy=np.array([])\n",
    "\n",
    "xx=vektori[0,0]*(sx+rx*np.cos(theta))+vektori[0,1]*(sy+ry*np.sin(theta))\n",
    "\n",
    "yy=vektori[1,0]*(sx+rx*np.cos(theta))+vektori[1,1]*(sy+ry*np.sin(theta))\n",
    "\n",
    "\n",
    "plt.scatter(xx,yy)\n",
    "plt.title('Pouzdano područje za θ')\n",
    "plt.xlabel('xx')\n",
    "plt.ylabel('yy')\n",
    "plt.show()"
   ]
  },
  {
   "cell_type": "code",
   "execution_count": null,
   "metadata": {},
   "outputs": [],
   "source": []
  },
  {
   "cell_type": "code",
   "execution_count": null,
   "metadata": {},
   "outputs": [],
   "source": []
  }
 ],
 "metadata": {
  "kernelspec": {
   "display_name": "Python 3",
   "language": "python",
   "name": "python3"
  },
  "language_info": {
   "codemirror_mode": {
    "name": "ipython",
    "version": 3
   },
   "file_extension": ".py",
   "mimetype": "text/x-python",
   "name": "python",
   "nbconvert_exporter": "python",
   "pygments_lexer": "ipython3",
   "version": "3.6.4"
  }
 },
 "nbformat": 4,
 "nbformat_minor": 2
}
